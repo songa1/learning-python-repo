{
 "cells": [
  {
   "cell_type": "markdown",
   "id": "5a2619b3",
   "metadata": {},
   "source": [
    "# LEARNING PYTHON PRACTICES"
   ]
  },
  {
   "cell_type": "code",
   "execution_count": 2,
   "id": "ed58b649",
   "metadata": {},
   "outputs": [
    {
     "name": "stdout",
     "output_type": "stream",
     "text": [
      "Enter 2 numbers separated by space: 7 8 9\n",
      "List:  ['7', '8', '9']\n",
      "24\n"
     ]
    }
   ],
   "source": [
    "# Let's get two numbers from the user, and print out their sum\n",
    "\n",
    "user_input = input(\"Enter 2 numbers separated by space: \")\n",
    "\n",
    "user_list = user_input.split()\n",
    "\n",
    "print(\"List: \", user_list)\n",
    "\n",
    "user_sum = 0;\n",
    "\n",
    "for i in user_list:\n",
    "    user_sum += int(i)\n",
    "    \n",
    "print(user_sum)\n"
   ]
  },
  {
   "cell_type": "code",
   "execution_count": 4,
   "id": "1b8d7eda",
   "metadata": {},
   "outputs": [
    {
     "name": "stdout",
     "output_type": "stream",
     "text": [
      "Enter at least 3 numbers separated by space: 7 8 8 9\n",
      "Enter another list with other numbers: 3 4 5 67\n",
      "List 1 is:  ['7', '8', '8', '9'] List 2 is:  ['3', '4', '5', '67']\n",
      "Final list is:  ['7', '8', '8', '9', '3', '4', '5', '67']\n"
     ]
    }
   ],
   "source": [
    "# Let's get two lists from the user and concatenate them\n",
    "\n",
    "user_i1 = input(\"Enter at least 3 numbers separated by space: \")\n",
    "user_i2 = input(\"Enter another list with other numbers: \")\n",
    "\n",
    "in1 = user_i1.split()\n",
    "in2 = user_i2.split()\n",
    "\n",
    "print(\"List 1 is: \", in1, \"List 2 is: \", in2)\n",
    "\n",
    "final_list = in1 + in2\n",
    "\n",
    "print(\"Final list is: \", final_list)"
   ]
  },
  {
   "cell_type": "code",
   "execution_count": 11,
   "id": "5b93b373",
   "metadata": {},
   "outputs": [
    {
     "name": "stdout",
     "output_type": "stream",
     "text": [
      "Enter your salary: -233\n",
      "Enter your bonus: 2772\n",
      "Your salary or bonus can not be negative\n"
     ]
    }
   ],
   "source": [
    "# Earnings calculation\n",
    "\n",
    "salary = int(input(\"Enter your salary: \"))\n",
    "bonus = int(input(\"Enter your bonus: \"))\n",
    "\n",
    "if salary < 0 or bonus < 0:\n",
    "    print(\"Your salary or bonus can not be negative\")\n",
    "else:\n",
    "    if salary > bonus:\n",
    "        print(\"Your erned: \", salary+bonus)\n",
    "    else:\n",
    "        print(\"Your salary is {} and it is less than your bonus, it is not possible.\".format(salary))"
   ]
  },
  {
   "cell_type": "code",
   "execution_count": 12,
   "id": "3ce254f1",
   "metadata": {},
   "outputs": [
    {
     "name": "stdout",
     "output_type": "stream",
     "text": [
      "Enter REG Num: 34\n",
      "Enter y1 marks: 45\n",
      "Enter y2 marks: 344\n",
      "Enter y3 marks: 34\n",
      "Congratulations! Your REG Number is 34 and you have graduated with 14100.0%.\n"
     ]
    }
   ],
   "source": [
    "# students information from y1 to y3\n",
    "\n",
    "reg_num = input(\"Enter REG Num: \")\n",
    "\n",
    "y1 = int(input(\"Enter y1 marks: \"))\n",
    "y2 = int(input(\"Enter y2 marks: \"))\n",
    "y3 = int(input(\"Enter y3 marks: \"))\n",
    "\n",
    "if (not reg_num):\n",
    "    print(\"Please add your REG Number!\")\n",
    "else:\n",
    "    z= ((y1 + y2 + y3)*100)/3\n",
    "    print(\"Congratulations! Your REG Number is {} and you have graduated with {}%.\".format(reg_num, z))\n",
    "\n",
    "# print(student_data)\n",
    "\n"
   ]
  },
  {
   "cell_type": "code",
   "execution_count": 27,
   "id": "fd675a2f",
   "metadata": {},
   "outputs": [
    {
     "name": "stdout",
     "output_type": "stream",
     "text": [
      "Enter your salaries: 100,50,30,40,50,60,300\n",
      "[110.0, 55.0, 33.0, 44.0, 55.0, 66.0, 300]\n"
     ]
    }
   ],
   "source": [
    "# For Loop\n",
    "\n",
    "final_salaries = []\n",
    "\n",
    "bonus_percent = 10\n",
    "top_salary = 200\n",
    "\n",
    "salary = eval(input(\"Enter your salaries: \"))\n",
    "\n",
    "for i in range (len(salary)):\n",
    "    if salary[i] < 0:\n",
    "        print(\"One of your salaries is negative!\")\n",
    "        break\n",
    "    bonus = (salary[i] *  bonus_percent) / 100\n",
    "    if salary[i] < top_salary:\n",
    "        total_salary = salary[i] + bonus\n",
    "    else:\n",
    "        total_salary = salary[i]\n",
    "    final_salaries.append(total_salary)\n",
    "    if len(final_salaries) == len(salary):\n",
    "        print(final_salaries)"
   ]
  },
  {
   "cell_type": "code",
   "execution_count": 30,
   "id": "11d8f4af",
   "metadata": {},
   "outputs": [
    {
     "name": "stdout",
     "output_type": "stream",
     "text": [
      "60\n",
      "70\n"
     ]
    }
   ],
   "source": [
    "# For Each 2\n",
    "\n",
    "list = [10,30,50,20,60,70]\n",
    "\n",
    "for num in list:\n",
    "    if(num > 50):\n",
    "        print(num)"
   ]
  },
  {
   "cell_type": "code",
   "execution_count": 36,
   "id": "2e4bb37c",
   "metadata": {},
   "outputs": [
    {
     "name": "stdout",
     "output_type": "stream",
     "text": [
      "Enter your salary: 900909\n",
      "Your salary is 900909, so your bonus is 180181.8. Means you will be paid 1081090.8 RWF.\n"
     ]
    }
   ],
   "source": [
    "# Function\n",
    "salary = int(input(\"Enter your salary: \"))\n",
    "\n",
    "def calcutate_bonus(salary, percentage):\n",
    "    return (salary*percentage)/100\n",
    "\n",
    "\n",
    "z = calcutate_bonus(salary,20)\n",
    "\n",
    "print (\"Your salary is {}, so your bonus is {}. Means you will be paid {} RWF.\".format(salary, z, salary + z))"
   ]
  },
  {
   "cell_type": "code",
   "execution_count": 4,
   "id": "c4b77f43",
   "metadata": {},
   "outputs": [
    {
     "name": "stdout",
     "output_type": "stream",
     "text": [
      "Enter the amount earned: 100000\n",
      "Enter names of people to pay separated by comma: G N\n",
      "Do we have a referrer? Y/N n\n",
      "The company will get 50000.0 RWF.\n",
      "G will be paid 16666.666666666668\n",
      "  will be paid 16666.666666666668\n",
      "N will be paid 16666.666666666668\n"
     ]
    }
   ],
   "source": [
    "# SP\n",
    "\n",
    "money_earned = int(input(\"Enter the amount earned: \"))\n",
    "people_to_pay = input(\"Enter names of people to pay separated by comma: \")\n",
    "people_to_pay.split(\",\")\n",
    "percent_to_pay = [50,40,10]\n",
    "\n",
    "def calculate_percent_amount(p):\n",
    "    return (money_earned*p) / 100\n",
    "\n",
    "def calculate_individually():\n",
    "    total_amount = calculate_percent_amount(percent_to_pay[0])\n",
    "    individual_pay = total_amount / len(people_to_pay)\n",
    "    \n",
    "    return individual_pay\n",
    "\n",
    "def left_money():\n",
    "    company_amount = calculate_percent_amount(percent_to_pay[1])\n",
    "    company_amount_no_ref = calculate_percent_amount(percent_to_pay[0])\n",
    "    ref_amount = calculate_percent_amount(percent_to_pay[2])\n",
    "    pay = calculate_individually()\n",
    "    referer = input(\"Do we have a referrer? Y/N \")\n",
    "  \n",
    "    if referer == \"Y\":\n",
    "        ref_name = input(\"Enter his/name: \")\n",
    "        print(\"{} is a referrer and will be paid {} RWF.\".format(ref_name, ref_amount))\n",
    "        print(\"Company will get {} RWF.\".format(ref_name, company_amount))\n",
    "    else:\n",
    "        print(\"The company will get {} RWF.\".format(company_amount_no_ref))\n",
    "        \n",
    "    for person in people_to_pay:\n",
    "        print(\"{} will be paid {}\".format(person, pay))\n",
    "    \n",
    "left_money()\n",
    "            \n",
    "            "
   ]
  },
  {
   "cell_type": "code",
   "execution_count": 5,
   "id": "5fe94630",
   "metadata": {},
   "outputs": [
    {
     "name": "stdout",
     "output_type": "stream",
     "text": [
      "Ganza\n"
     ]
    }
   ],
   "source": [
    "# OOP IN PYTHON\n",
    "\n",
    "class Person:\n",
    "    hair = \"blonde\"\n",
    "    legs = \"long\"\n",
    "    def assign_id(self, name, age, home):\n",
    "        self.name = name\n",
    "        self.age = age\n",
    "        self.home = home\n",
    "    def get_id(self):\n",
    "        print(self.name)\n",
    "        \n",
    "pers = Person()\n",
    "\n",
    "pers.assign_id(\"Ganza\", 20, \"Kacyiru\")\n",
    "pers.get_id()"
   ]
  },
  {
   "cell_type": "code",
   "execution_count": 2,
   "id": "057ba3a9",
   "metadata": {},
   "outputs": [],
   "source": [
    "# Assignment on Dictionaries\n",
    "\n",
    "class StudentRecords:\n",
    "    \n",
    "    # Empty dictionary that will store student unmodified info\n",
    "    stInfo = {}\n",
    "    \n",
    "    # A method to set student info into the dictionary\n",
    "    def setStInfo(self, name, y1, y2, y3):\n",
    "        self.stInfo[name] = [name, [y1,y2,y3]]\n",
    "    \n",
    "    # Display student information stored in a dictionary\n",
    "    def getStudents(self):\n",
    "        print(self.stInfo)\n",
    "        \n",
    "    # Calculate the total marks and percentage\n",
    "    def totalMarks(self):\n",
    "        finalInfo = {} # Store the disctionaly with sum of marks\n",
    "        finalInfoPercent = {} # Store the dictionary with percentages\n",
    "        \n",
    "        # Loop through dictionary data\n",
    "        for p in self.stInfo:\n",
    "            marks = self.stInfo[p][1]\n",
    "            \n",
    "            # Calculate the sum of marks\n",
    "            s = 0\n",
    "            for m in marks:\n",
    "                s += m\n",
    "            #Percentage calculation \n",
    "            percentage = (s * 100)/300\n",
    "            \n",
    "            finalInfo[p] = [p, s] # Information with total marks\n",
    "            finalInfoPercent[p] = [p, int(percentage)] # Information with percentages\n",
    "            \n",
    "        print(finalInfo)\n",
    "        print(finalInfoPercent)\n",
    "                "
   ]
  },
  {
   "cell_type": "code",
   "execution_count": 4,
   "id": "b6e41bd5",
   "metadata": {},
   "outputs": [
    {
     "name": "stdout",
     "output_type": "stream",
     "text": [
      "{'Gakuru': ['Gakuru', [100, 100, 100]], 'Senzoga': ['Senzoga', [100, 62, 50]], 'Remure': ['Remure', [100, 67, 23]]}\n",
      "-------------------------------------------------------------------------------------------------------------\n",
      "{'Gakuru': ['Gakuru', 300], 'Senzoga': ['Senzoga', 212], 'Remure': ['Remure', 190]}\n",
      "{'Gakuru': ['Gakuru', 100], 'Senzoga': ['Senzoga', 70], 'Remure': ['Remure', 63]}\n"
     ]
    }
   ],
   "source": [
    "std = StudentRecords()\n",
    "\n",
    "std.setStInfo(\"Gakuru\", 100,100,100)\n",
    "std.setStInfo(\"Senzoga\", 100,62,50)\n",
    "std.setStInfo(\"Remure\", 100,67,23)\n",
    "\n",
    "\n",
    "std.getStudents()\n",
    "\n",
    "print(\"-------------------------------------------------------------------------------------------------------------\")\n",
    "\n",
    "std.totalMarks()"
   ]
  },
  {
   "cell_type": "code",
   "execution_count": null,
   "id": "4659f16d",
   "metadata": {},
   "outputs": [],
   "source": [
    "# Constructor\n",
    "\n"
   ]
  },
  {
   "cell_type": "code",
   "execution_count": 1,
   "id": "d5042add",
   "metadata": {},
   "outputs": [],
   "source": [
    "def my_fun_2(x, y):\n",
    "    p = x * y\n",
    "    s = x + y\n",
    "    return p, s"
   ]
  },
  {
   "cell_type": "code",
   "execution_count": 9,
   "id": "67099548",
   "metadata": {},
   "outputs": [],
   "source": [
    "def my_func():\n",
    "    a = input(\"Enter number 1: \")\n",
    "    b = input(\"Enter number 2: \")\n",
    "    print(\"The product of your numbers is {} and the sum is {}.\".format(my_fun_2(int(a), int(b))[0], my_fun_2(int(a), int(b))[1]))"
   ]
  },
  {
   "cell_type": "code",
   "execution_count": 11,
   "id": "0e63d8dc",
   "metadata": {},
   "outputs": [
    {
     "name": "stdout",
     "output_type": "stream",
     "text": [
      "Enter number 1: 6\n",
      "Enter number 2: 9\n",
      "The product of your numbers is 54 and the sum is 15.\n"
     ]
    }
   ],
   "source": [
    "my_func()"
   ]
  },
  {
   "cell_type": "code",
   "execution_count": 12,
   "id": "01c99561",
   "metadata": {},
   "outputs": [
    {
     "name": "stdout",
     "output_type": "stream",
     "text": [
      "Requirement already satisfied: numpy in /home/yt-achille/anaconda3/lib/python3.9/site-packages (1.21.5)\r\n"
     ]
    }
   ],
   "source": [
    "!pip install numpy"
   ]
  },
  {
   "cell_type": "code",
   "execution_count": 6,
   "id": "a0a5cc06",
   "metadata": {},
   "outputs": [],
   "source": [
    "import numpy as np"
   ]
  },
  {
   "cell_type": "code",
   "execution_count": 7,
   "id": "e3c0e76e",
   "metadata": {},
   "outputs": [
    {
     "name": "stdout",
     "output_type": "stream",
     "text": [
      "12\n",
      "[ 1  2  3  5  6  7  8  9 10 11 45 67]\n"
     ]
    }
   ],
   "source": [
    "my_list = [1,2,3,5,6,7,8,9,10,11,45,67]\n",
    "print(len(my_list))\n",
    "\n",
    "numpy_arr = np.array(my_list)\n",
    "print(numpy_arr)"
   ]
  },
  {
   "cell_type": "code",
   "execution_count": 27,
   "id": "e53b6dd8",
   "metadata": {
    "scrolled": true
   },
   "outputs": [
    {
     "name": "stdout",
     "output_type": "stream",
     "text": [
      "[[ 1  2  3]\n",
      " [ 5  6  7]\n",
      " [ 8  9 10]\n",
      " [11 45 67]]\n"
     ]
    },
    {
     "data": {
      "text/plain": [
       "array([[1, 2],\n",
       "       [5, 6]])"
      ]
     },
     "execution_count": 27,
     "metadata": {},
     "output_type": "execute_result"
    }
   ],
   "source": [
    "matrix_arr = numpy_arr.reshape(4,3)\n",
    "\n",
    "print(matrix_arr)\n",
    "\n",
    "# for i in range(3):\n",
    "#     print(matrix_arr[i])\n",
    "\n",
    "    \n",
    "# Print the matrix of [1,6], [3,8]\n",
    "\n",
    "matrix_arr[0:2, :2]"
   ]
  },
  {
   "cell_type": "code",
   "execution_count": 8,
   "id": "8507193f",
   "metadata": {},
   "outputs": [],
   "source": [
    "# Assignment: Make a class with 3 functions. Input data, Process data, and output results."
   ]
  },
  {
   "cell_type": "code",
   "execution_count": 5,
   "id": "350f0284",
   "metadata": {},
   "outputs": [],
   "source": [
    "import CalculateAge "
   ]
  },
  {
   "cell_type": "code",
   "execution_count": 6,
   "id": "c337cdf6",
   "metadata": {},
   "outputs": [
    {
     "name": "stdout",
     "output_type": "stream",
     "text": [
      "<class 'CalculateAge.CalculateAge'>\n",
      "Enter your Year Of Birth: 2002\n"
     ]
    },
    {
     "data": {
      "text/plain": [
       "21"
      ]
     },
     "execution_count": 6,
     "metadata": {},
     "output_type": "execute_result"
    }
   ],
   "source": [
    "myage = CalculateAge.CalculateAge()\n",
    "\n",
    "print(type(myage))\n",
    "\n",
    "myage.giveYob()\n",
    "myage.calculateHere()\n",
    "myage.getAge()"
   ]
  },
  {
   "cell_type": "code",
   "execution_count": 1,
   "id": "f135b516",
   "metadata": {},
   "outputs": [],
   "source": [
    "import AverageCalc "
   ]
  },
  {
   "cell_type": "code",
   "execution_count": 2,
   "id": "2cbefd2a",
   "metadata": {},
   "outputs": [
    {
     "name": "stdout",
     "output_type": "stream",
     "text": [
      "Enter your name: Achille\n",
      "Enter Y1 marks: 23\n",
      "Enter Y2 marks: 45\n",
      "Enter Y3 marks: 78\n",
      "{'Achille': ['Achille', [23, 45, 78]]}\n",
      "This is the total of your marks:  {'Achille': ['Achille', 146]}\n",
      "This is your marks per cent:  {'Achille': 48}\n",
      "This is your marks average:  48.666666666666664\n"
     ]
    }
   ],
   "source": [
    "student = AverageCalc.AverageCalc()\n",
    "\n",
    "\n",
    "\n",
    "student.setStInfo()\n",
    "student.getStudents()\n",
    "student.totalMarks()"
   ]
  },
  {
   "cell_type": "code",
   "execution_count": 16,
   "id": "e616c19a",
   "metadata": {},
   "outputs": [],
   "source": [
    "# class of hotels\n",
    "\n",
    "class Hotels:\n",
    "    # Using a constructor\n",
    "    def __init__(self, name, location, category):\n",
    "        self.name = name\n",
    "        self.location = location\n",
    "        self.category = category\n",
    "    def getHotels(self):\n",
    "        print(\"{} is a {} hotel, located at {}.\".format(self.name, self.category, self.location))\n",
    "        \n",
    "hotel = Hotels(\"Serena\", \"Nyarugenge\", \"5 Star\")\n",
    "hotel1 = Hotels(\"Radisson\", \"Gasabo\", \"5 Star\")"
   ]
  },
  {
   "cell_type": "code",
   "execution_count": 17,
   "id": "bf37589a",
   "metadata": {},
   "outputs": [
    {
     "name": "stdout",
     "output_type": "stream",
     "text": [
      "Serena is a 5 Star hotel, located at Nyarugenge.\n",
      "Radisson is a 5 Star hotel, located at Gasabo.\n"
     ]
    }
   ],
   "source": [
    "# hotel = Hotels()\n",
    "\n",
    "# print(type(hotel))\n",
    "\n",
    "hotel.getHotels()\n",
    "hotel1.getHotels()"
   ]
  },
  {
   "cell_type": "code",
   "execution_count": 16,
   "id": "30199e52",
   "metadata": {},
   "outputs": [
    {
     "name": "stdout",
     "output_type": "stream",
     "text": [
      "A computer of i5 kind, is made by Dell, and bought at 300000 RWF.\n",
      "A computer of Mojo kind, is made by Apple, and bought at 200000 RWF.\n",
      "All computers can be bought at 500000 RWF.\n"
     ]
    }
   ],
   "source": [
    "# Computers\n",
    "\n",
    "# class of hotels\n",
    "\n",
    "class Computers:\n",
    "    # Using a constructor\n",
    "    def __init__(self, make, kind, price):\n",
    "        self.make = make\n",
    "        self.kind = kind\n",
    "        self.price = price\n",
    "        print(\"A computer of {} kind, is made by {}, and bought at {} RWF.\".format(self.kind, self.make, self.price))\n",
    "    def updatePrice(self, newPrice):\n",
    "        self.price = newPrice\n",
    "\n",
    "pricey = []\n",
    "\n",
    "c1 = Computers(\"Dell\", \"i5\", 300000)\n",
    "pricey.append(c1.price)\n",
    "c2 = Computers(\"Apple\", \"Mojo\", 200000)\n",
    "pricey.append(c2.price)\n",
    "\n",
    "def totalPrice(prices):\n",
    "    s = 0\n",
    "    for p in prices:\n",
    "        s+=p\n",
    "    print(\"All computers can be bought at {} RWF.\".format(s))\n",
    "\n",
    "totalPrice(pricey)"
   ]
  },
  {
   "cell_type": "code",
   "execution_count": 2,
   "id": "2651b49d",
   "metadata": {},
   "outputs": [],
   "source": [
    "# Python inheritance\n",
    "\n",
    "class Computation:\n",
    "    salary = 0\n",
    "    def bonusCompute(self, sal, rate):\n",
    "        self.bonus = sal * rate\n",
    "        return self.bonus\n",
    "    def salaryComp(self, b_sal, bonus):\n",
    "        self.bonus = bonus\n",
    "        self.b_sal = b_sal\n",
    "        bonus = self.bonusCompute(b_sal, bonus)\n",
    "        self.salary = int(b_sal) + int(bonus)\n",
    "    \n",
    "class salaryCompute(Computation):\n",
    "\n",
    "    def setData(self):\n",
    "        self.s = int(input(\"Enter your salary: \"))\n",
    "        self.b = float(input(\"Enter your bonus rate: \"))\n",
    "        self.getSalary()\n",
    "    def getSalary(self):\n",
    "        ob = Computation()\n",
    "        ob.salaryComp(self.s, self.b)\n",
    "        if ob.salary < 0:\n",
    "            print(\"You can not add the negative salary. Try again!\")\n",
    "            self.setData()\n",
    "            reload()\n",
    "        elif ob.salary > 1000000:\n",
    "            print(\"We don't pay you that much! Please add your respective salary.\")\n",
    "            self.setData()\n",
    "        else:\n",
    "            print(\"The total salary is: \", ob.salary)\n",
    "        reload()"
   ]
  },
  {
   "cell_type": "code",
   "execution_count": null,
   "id": "61835521",
   "metadata": {},
   "outputs": [
    {
     "name": "stdout",
     "output_type": "stream",
     "text": [
      "Enter your salary: -788\n",
      "Enter your bonus rate: 0.8\n",
      "You can not add the negative salary. Try again!\n"
     ]
    }
   ],
   "source": [
    "achille = salaryCompute()\n",
    "\n",
    "achille.setData()\n"
   ]
  },
  {
   "cell_type": "code",
   "execution_count": null,
   "id": "98342401",
   "metadata": {},
   "outputs": [],
   "source": []
  },
  {
   "cell_type": "code",
   "execution_count": null,
   "id": "fbc84b4a",
   "metadata": {},
   "outputs": [],
   "source": []
  }
 ],
 "metadata": {
  "kernelspec": {
   "display_name": "Python 3 (ipykernel)",
   "language": "python",
   "name": "python3"
  },
  "language_info": {
   "codemirror_mode": {
    "name": "ipython",
    "version": 3
   },
   "file_extension": ".py",
   "mimetype": "text/x-python",
   "name": "python",
   "nbconvert_exporter": "python",
   "pygments_lexer": "ipython3",
   "version": "3.9.13"
  }
 },
 "nbformat": 4,
 "nbformat_minor": 5
}
